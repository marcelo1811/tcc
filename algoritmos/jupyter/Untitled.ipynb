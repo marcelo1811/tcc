{
 "cells": [
  {
   "cell_type": "code",
   "execution_count": 11,
   "metadata": {},
   "outputs": [
    {
     "ename": "ModuleNotFoundError",
     "evalue": "No module named 'ticTacBoard'",
     "output_type": "error",
     "traceback": [
      "\u001b[1;31m---------------------------------------------------------------------------\u001b[0m",
      "\u001b[1;31mModuleNotFoundError\u001b[0m                       Traceback (most recent call last)",
      "\u001b[1;32m<ipython-input-11-93d93e929198>\u001b[0m in \u001b[0;36m<module>\u001b[1;34m()\u001b[0m\n\u001b[1;32m----> 1\u001b[1;33m \u001b[1;32mfrom\u001b[0m \u001b[0mticTacBoard\u001b[0m \u001b[1;32mimport\u001b[0m \u001b[0mTicTacBoard\u001b[0m\u001b[1;33m,\u001b[0m \u001b[0mState\u001b[0m\u001b[1;33m,\u001b[0m \u001b[0mMark\u001b[0m\u001b[1;33m\u001b[0m\u001b[0m\n\u001b[0m\u001b[0;32m      2\u001b[0m \u001b[1;32mfrom\u001b[0m \u001b[0mp5\u001b[0m \u001b[1;32mimport\u001b[0m \u001b[1;33m*\u001b[0m\u001b[1;33m\u001b[0m\u001b[0m\n\u001b[0;32m      3\u001b[0m \u001b[1;32mimport\u001b[0m \u001b[0mmath\u001b[0m\u001b[1;33m\u001b[0m\u001b[0m\n\u001b[0;32m      4\u001b[0m \u001b[1;33m\u001b[0m\u001b[0m\n\u001b[0;32m      5\u001b[0m \u001b[0mticTacBoard\u001b[0m \u001b[1;33m=\u001b[0m \u001b[1;32mNone\u001b[0m\u001b[1;33m\u001b[0m\u001b[0m\n",
      "\u001b[1;31mModuleNotFoundError\u001b[0m: No module named 'ticTacBoard'"
     ]
    }
   ],
   "source": [
    "from ticTacBoard import TicTacBoard, State, Mark\n",
    "from p5 import *\n",
    "import math\n",
    "\n",
    "ticTacBoard = None\n",
    "SIZE = 300\n",
    "playAs = Mark.X\n",
    "aiPlayer = Mark.X if playAs is Mark.O else Mark.O\n",
    "\n",
    "def setup():\n",
    "    global ticTacBoard\n",
    "    size(SIZE, SIZE) \n",
    "    ticTacBoard = TicTacBoard(SIZE)\n",
    "\n",
    "def draw():\n",
    "    background(24)\n",
    "    size_per_square = SIZE/3\n",
    "    ticTacBoard.draw()\n",
    "\n",
    "    if ticTacBoard.get_state() is not State.ONGOING:\n",
    "        return\n",
    "\n",
    "    if (ticTacBoard.get_turn_to_play() is aiPlayer):\n",
    "        bestScore = -math.inf\n",
    "        bestMove = None\n",
    "        for move in ticTacBoard.get_possible_moves():\n",
    "            ticTacBoard.make_move(move)\n",
    "            score = minimax(False, aiPlayer, ticTacBoard)\n",
    "            ticTacBoard.undo()\n",
    "            if (score > bestScore):\n",
    "                bestScore = score\n",
    "                bestMove = move\n",
    "        ticTacBoard.make_move(bestMove)\n",
    "    else:\n",
    "        if mouse_is_pressed:\n",
    "            ticTacBoard.make_ui_move(mouse_x, mouse_y)\n",
    "\n",
    "def minimax(isMaxTurn, maximizerMark, board):\n",
    "    state = board.get_state()\n",
    "    if (state is State.DRAW):\n",
    "        return 0\n",
    "    elif (state is State.OVER):\n",
    "        return 1 if board.get_winner() is maximizerMark else -1\n",
    "\n",
    "    scores = []\n",
    "    for move in board.get_possible_moves():\n",
    "        board.make_move(move)\n",
    "        scores.append(minimax(not isMaxTurn, maximizerMark, board))\n",
    "        board.undo()\n",
    "        if (isMaxTurn and max(scores) == 1) or (not isMaxTurn and min(scores) == -1):\n",
    "            break\n",
    "\n",
    "    return max(scores) if isMaxTurn else min(scores)\n",
    "\n",
    "if __name__ == \"__main__\":\n",
    "    run()"
   ]
  }
 ],
 "metadata": {
  "kernelspec": {
   "display_name": "Python 3",
   "language": "python",
   "name": "python3"
  },
  "language_info": {
   "codemirror_mode": {
    "name": "ipython",
    "version": 3
   },
   "file_extension": ".py",
   "mimetype": "text/x-python",
   "name": "python",
   "nbconvert_exporter": "python",
   "pygments_lexer": "ipython3",
   "version": "3.6.5"
  }
 },
 "nbformat": 4,
 "nbformat_minor": 2
}
